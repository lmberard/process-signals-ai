{
 "cells": [
  {
   "cell_type": "markdown",
   "id": "57758570",
   "metadata": {},
   "source": [
    "# TP9: Modelo de Lenguaje y Sistema de Recomendación\n",
    "\n",
    "**Alumna**: Lucia Berard\n",
    "\n",
    "**Fecha**: 01/06/2025\n",
    "\n",
    "[Link a Google Colab](https://colab.research.google.com/drive/1ah4GT2vGlptvJM9qctPRs0NpqqozR07z?usp=sharing)\n",
    "\n",
    "\n",
    "\n",
    "\n",
    "Se desea crear un sistema para recomendar películas. El archivo `movies.csv` posee una base de datos donde usuarios calificaron (del 1 al 5) diferentes películas (0 significa sin calificar).\n"
   ]
  },
  {
   "cell_type": "code",
   "execution_count": 43,
   "id": "6c662d64",
   "metadata": {},
   "outputs": [],
   "source": [
    "import re\n",
    "import numpy as np\n",
    "import pandas as pd\n",
    "import matplotlib.pyplot as plt"
   ]
  },
  {
   "cell_type": "markdown",
   "id": "f0868e11",
   "metadata": {},
   "source": [
    "\n",
    "---\n",
    "\n",
    "## (a) Modelo de Lenguaje\n",
    "\n",
    "Se desea diseñar un buscador de títulos de películas, de manera que si el usuario comete algún error u omisión cuando lo escribe, el buscador pueda entenderlo. Para ello, se estudiará la similitud entre los *embeddings*. A continuación se describen los pasos para diseñar el buscador; se recomienda que los mismos sean métodos dentro de la clase del buscador mencionado:\n",
    "\n",
    "### a.1 **Descargar las representaciones pre-entrenadas GloVe de dimensión 300.** 📦  \n",
    "  El modelo pre-entrenado puede descargarse en  \n",
    "  http://nlp.stanford.edu/data/glove.6B.zip\n",
    "\n",
    "### a.2 **Cargar el modelo de lenguaje.** 📥  \n",
    "  Posible código (adaptar a sus necesidades):\n",
    "  ```python\n",
    "  language_model = {}\n",
    "  with open(\"glove.6B.300d.txt\", encoding=\"utf-8\") as f:\n",
    "      for line in f:\n",
    "          parts = line.strip().split()\n",
    "          word = parts[0]\n",
    "          vec = np.array(parts[1:], dtype=float)\n",
    "          language_model[word] = vec\n",
    "  ```\n"
   ]
  },
  {
   "cell_type": "code",
   "execution_count": 9,
   "id": "1fb336bc",
   "metadata": {},
   "outputs": [
    {
     "name": "stdout",
     "output_type": "stream",
     "text": [
      "Modelo cargado. Palabras en el vocabulario: 400000\n",
      "the 0.04656 0.21318 -0.0074364 -0.45854 -0.035639 0.23643 -0.28836 0.21521 -0.13486 -1.6413 -0.26091 0.032434 0.056621 -0.043296 -0.021672 0.22476 -0.075129 -0.067018 -0.14247 0.038825 -0.18951 0.29977 0.39305 0.17887 -0.17343 -0.21178 0.23617 -0.063681 -0.42318 -0.11661 0.093754 0.17296 -0.33073 0.49112 -0.68995 -0.092462 0.24742 -0.17991 0.097908 0.083118 0.15299 -0.27276 -0.038934 0.54453 0.53737 0.29105 -0.0073514 0.04788 -0.4076 -0.026759 0.17919 0.010977 -0.10963 -0.26395 0.07399 0.26236 -0.1508 0.34623 0.25758 0.11971 -0.037135 -0.071593 0.43898 -0.040764 0.016425 -0.4464 0.17197 0.046246 0.058639 0.041499 0.53948 0.52495 0.11361 -0.048315 -0.36385 0.18704 0.092761 -0.11129 -0.42085 0.13992 -0.39338 -0.067945 0.12188 0.16707 0.075169 -0.015529 -0.19499 0.19638 0.053194 0.2517 -0.34845 -0.10638 -0.34692 -0.19024 -0.2004 0.12154 -0.29208 0.023353 -0.11618 -0.35768 0.062304 0.35884 0.02906 0.0073005 0.0049482 -0.15048 -0.12313 0.19337 0.12173 0.44503 0.25147 0.10781 -0.17716 0.038691 0.08153 0.14667 0.063666 0.061332 -0.075569 -0.37724 0.01585 -0.30342 0.28374 -0.042013 -0.040715 -0.15269 0.07498 0.15577 0.10433 0.31393 0.19309 0.19429 0.15185 -0.10192 -0.018785 0.20791 0.13366 0.19038 -0.25558 0.304 -0.01896 0.20147 -0.4211 -0.0075156 -0.27977 -0.19314 0.046204 0.19971 -0.30207 0.25735 0.68107 -0.19409 0.23984 0.22493 0.65224 -0.13561 -0.17383 -0.048209 -0.1186 0.0021588 -0.019525 0.11948 0.19346 -0.4082 -0.082966 0.16626 -0.10601 0.35861 0.16922 0.07259 -0.24803 -0.10024 -0.52491 -0.17745 -0.36647 0.2618 -0.012077 0.08319 -0.21528 0.41045 0.29136 0.30869 0.078864 0.32207 -0.041023 -0.1097 -0.092041 -0.12339 -0.16416 0.35382 -0.082774 0.33171 -0.24738 -0.048928 0.15746 0.18988 -0.026642 0.063315 -0.010673 0.34089 1.4106 0.13417 0.28191 -0.2594 0.055267 -0.052425 -0.25789 0.019127 -0.022084 0.32113 0.068818 0.51207 0.16478 -0.20194 0.29232 0.098575 0.013145 -0.10652 0.1351 -0.045332 0.20697 -0.48425 -0.44706 0.0033305 0.0029264 -0.10975 -0.23325 0.22442 -0.10503 0.12339 0.10978 0.048994 -0.25157 0.40319 0.35318 0.18651 -0.023622 -0.12734 0.11475 0.27359 -0.21866 0.015794 0.81754 -0.023792 -0.85469 -0.16203 0.18076 0.028014 -0.1434 0.0013139 -0.091735 -0.089704 0.11105 -0.16703 0.068377 -0.087388 -0.039789 0.014184 0.21187 0.28579 -0.28797 -0.058996 -0.032436 -0.0047009 -0.17052 -0.034741 -0.11489 0.075093 0.099526 0.048183 -0.073775 -0.41817 0.0041268 0.44414 -0.16062 0.14294 -2.2628 -0.027347 0.81311 0.77417 -0.25639 -0.11576 -0.11982 -0.21363 0.028429 0.27261 0.031026 0.096782 0.0067769 0.14082 -0.013064 -0.29686 -0.079913 0.195 0.031549 0.28506 -0.087461 0.0090611 -0.20989 0.053913\n",
      "\n"
     ]
    }
   ],
   "source": [
    "def cargar_glove(path=\"glove.6B/glove.6B.300d.txt\"):\n",
    "    language_model = {}\n",
    "    with open(path, encoding=\"utf-8\") as f:\n",
    "        for line in f:\n",
    "            parts = line.strip().split()\n",
    "            word = parts[0]\n",
    "            vec = np.array(parts[1:], dtype=float)\n",
    "            language_model[word] = vec\n",
    "    return language_model\n",
    "\n",
    "# Carga el modelo (esto puede tardar unos minutos)\n",
    "glove = cargar_glove(\"glove.6B/glove.6B.300d.txt\")\n",
    "print(f\"Modelo cargado. Palabras en el vocabulario: {len(glove)}\")\n",
    "\n",
    "# Mostrar una línea real del archivo glove.6B.300d.txt\n",
    "with open(\"glove.6B/glove.6B.300d.txt\", encoding=\"utf-8\") as f:\n",
    "    linea = next(f)\n",
    "    print(linea)"
   ]
  },
  {
   "cell_type": "markdown",
   "id": "73de7393",
   "metadata": {},
   "source": [
    "El archivo glove.6B.300d.txt contiene las representaciones vectoriales (embeddings) pre-entrenadas de palabras en inglés, generadas por el modelo GloVe (Global Vectors for Word Representation) utilizando un corpus de 6 mil millones de palabras (Wikipedia 2014 + Gigaword 5).\n",
    "- Cada línea corresponde a una palabra del vocabulario.\n",
    "- La primera palabra de cada línea es la palabra en sí.\n",
    "- A continuación, hay 300 números separados por espacios, que representan el embedding (vector) de esa palabra en un espacio de 300 dimensiones.\n",
    "- Estos vectores permiten comparar palabras de manera matemática, capturando similitudes semánticas (por ejemplo, \"king\" y \"queen\" tendrán vectores parecidos)."
   ]
  },
  {
   "cell_type": "markdown",
   "id": "3b29c6cc",
   "metadata": {},
   "source": [
    "\n",
    "### a.3 Implementar un word2vec. Si la palabra está en el vocabulario debe devolver el vector del modelo de lenguaje, caso contrario debe devolver un vector de ceros.\n"
   ]
  },
  {
   "cell_type": "code",
   "execution_count": 13,
   "id": "f9eaffbb",
   "metadata": {},
   "outputs": [
    {
     "name": "stdout",
     "output_type": "stream",
     "text": [
      "[-0.138     -0.12203    0.0054643 -0.010215   0.13134    0.28616\n",
      " -0.36436   -0.035735  -0.17218   -0.38864    0.58637    0.13189\n",
      " -0.1513     0.35515   -0.34298   -0.54394   -0.40302   -0.17129\n",
      "  0.19899    0.24317    0.21332    0.60335    0.22556    0.46382\n",
      "  0.064101   0.36409    0.25328   -0.79771    0.26771    0.42462\n",
      " -0.62075    0.31208   -0.25316    0.13562   -1.1323     0.0099104\n",
      " -0.62471   -0.048047   0.23139    0.16102    0.24774   -0.26149\n",
      " -0.17341    0.34005    0.21511   -0.26714    0.45698   -0.13671\n",
      "  0.11654   -0.12222    0.062068  -0.45585   -0.30115    0.11208\n",
      "  0.31146   -0.048065   0.10067    0.1441     0.27139   -0.17809\n",
      " -0.41069    0.093994   0.499      0.023845   0.42438   -0.027703\n",
      "  0.044485  -0.15928    0.45054    0.13142    0.19913    0.36483\n",
      "  0.26074    0.55475    0.47258   -0.43104    0.23181   -0.177\n",
      "  0.21771   -0.37325   -0.15304   -0.45237    0.68007   -0.15976\n",
      " -0.094521   0.6455     0.10443   -0.19616    0.027374  -0.24713\n",
      " -0.24108    0.24404   -0.0066751 -0.055555  -0.13255    0.28159\n",
      "  0.10104    0.26669   -0.20363   -1.2499     0.17955    0.16492\n",
      "  0.29046    0.078206   0.36391    0.1972    -0.38922   -0.08842\n",
      "  0.36837   -0.46351   -0.05688    0.23692    0.25946   -0.0092949\n",
      "  0.55123    0.18405   -0.070915  -0.12583   -0.33538   -0.6216\n",
      "  0.10658   -0.04339    0.054995   0.46283    0.088233   0.051282\n",
      "  0.30242    0.045697  -0.30009    0.086718  -0.075517   0.10886\n",
      " -0.018905   0.11489    0.30604   -0.014883  -0.20549   -0.11995\n",
      " -0.57362    0.71357   -0.0056715 -0.11205   -0.32318   -0.058222\n",
      " -0.36446   -0.68901    0.07647   -0.027654  -0.080254  -0.22787\n",
      "  0.35799   -0.21695   -0.20211   -0.23662    0.58239    0.12348\n",
      "  0.053221   0.21873   -0.11821    0.11212    0.79703   -0.30937\n",
      "  0.2063    -0.17314    0.01498    0.76045    0.075878   0.047252\n",
      " -0.35795    0.30923   -0.082989  -0.30638   -1.6971     0.055546\n",
      "  0.089201   0.38312   -0.33247   -0.13426   -0.049802  -0.41536\n",
      " -0.13256   -0.066477  -0.18845    0.17874    0.19334   -0.22544\n",
      "  0.023197  -0.3343     0.21699   -0.16357   -0.3338    -0.15258\n",
      " -0.27453   -0.2123    -0.38512   -0.39829   -0.7472     0.19218\n",
      " -0.15262   -0.26095    1.9506    -0.30508    0.11658    0.01811\n",
      "  0.3887     0.02532   -0.073168   0.08531   -0.26947   -0.4158\n",
      " -0.5256    -0.3618     0.1364     0.14176    0.080273   0.31376\n",
      "  0.12755    0.1358     0.25489    0.33135   -0.75425   -0.10576\n",
      "  0.036561  -0.15502   -0.41141   -0.1202     0.27146   -0.44042\n",
      " -0.2921    -0.11905    0.62502   -0.27724   -0.59458   -0.31237\n",
      "  0.30283    0.28397    0.75238   -0.12298   -0.32536    0.12182\n",
      "  0.40979    0.15839   -0.26725   -0.21228   -0.51142   -0.34827\n",
      " -0.42788   -0.10433   -0.58671    0.26117   -0.021263  -0.16688\n",
      " -0.42097    1.0059     0.23808   -0.80147    0.3903    -0.34794\n",
      "  0.54537   -0.14279    0.17518   -0.083995   0.13864   -0.36321\n",
      "  0.44686   -0.18776    0.17833   -0.19966    0.53591    0.57662\n",
      "  0.54154   -0.10555   -0.27472    0.11733    0.22361    0.32645\n",
      " -1.6279    -0.14297   -0.010648  -0.62519   -0.037267  -0.35863\n",
      "  0.023786  -0.059398  -0.10813    0.59328   -0.11333   -0.1525\n",
      " -0.14136    0.67566    0.11331    0.15394   -0.3226     0.017754\n",
      " -0.97518    0.021112  -0.15476    0.19934    0.057473  -0.023767 ]\n",
      "[0. 0. 0. 0. 0. 0. 0. 0. 0. 0. 0. 0. 0. 0. 0. 0. 0. 0. 0. 0. 0. 0. 0. 0.\n",
      " 0. 0. 0. 0. 0. 0. 0. 0. 0. 0. 0. 0. 0. 0. 0. 0. 0. 0. 0. 0. 0. 0. 0. 0.\n",
      " 0. 0. 0. 0. 0. 0. 0. 0. 0. 0. 0. 0. 0. 0. 0. 0. 0. 0. 0. 0. 0. 0. 0. 0.\n",
      " 0. 0. 0. 0. 0. 0. 0. 0. 0. 0. 0. 0. 0. 0. 0. 0. 0. 0. 0. 0. 0. 0. 0. 0.\n",
      " 0. 0. 0. 0. 0. 0. 0. 0. 0. 0. 0. 0. 0. 0. 0. 0. 0. 0. 0. 0. 0. 0. 0. 0.\n",
      " 0. 0. 0. 0. 0. 0. 0. 0. 0. 0. 0. 0. 0. 0. 0. 0. 0. 0. 0. 0. 0. 0. 0. 0.\n",
      " 0. 0. 0. 0. 0. 0. 0. 0. 0. 0. 0. 0. 0. 0. 0. 0. 0. 0. 0. 0. 0. 0. 0. 0.\n",
      " 0. 0. 0. 0. 0. 0. 0. 0. 0. 0. 0. 0. 0. 0. 0. 0. 0. 0. 0. 0. 0. 0. 0. 0.\n",
      " 0. 0. 0. 0. 0. 0. 0. 0. 0. 0. 0. 0. 0. 0. 0. 0. 0. 0. 0. 0. 0. 0. 0. 0.\n",
      " 0. 0. 0. 0. 0. 0. 0. 0. 0. 0. 0. 0. 0. 0. 0. 0. 0. 0. 0. 0. 0. 0. 0. 0.\n",
      " 0. 0. 0. 0. 0. 0. 0. 0. 0. 0. 0. 0. 0. 0. 0. 0. 0. 0. 0. 0. 0. 0. 0. 0.\n",
      " 0. 0. 0. 0. 0. 0. 0. 0. 0. 0. 0. 0. 0. 0. 0. 0. 0. 0. 0. 0. 0. 0. 0. 0.\n",
      " 0. 0. 0. 0. 0. 0. 0. 0. 0. 0. 0. 0.]\n"
     ]
    }
   ],
   "source": [
    "def word2vec(word, language_model, dim=300):\n",
    "    \"\"\"\n",
    "    Devuelve el vector de la palabra si está en el vocabulario,\n",
    "    si no, devuelve un vector de ceros de dimensión 'dim'.\n",
    "    \"\"\"\n",
    "    return language_model.get(word, np.zeros(dim))\n",
    "\n",
    "# Ejemplo de uso con una palabra que está en el vocabulario\n",
    "vector = word2vec(\"movie\", glove)\n",
    "print(vector)\n",
    "\n",
    "# Ejemplo de uso con una palabra que no está en el vocabulario\n",
    "vector = word2vec(\"afjsahjfsajfhsaj\", glove)\n",
    "print(vector)"
   ]
  },
  {
   "cell_type": "markdown",
   "id": "c2bb43cf",
   "metadata": {},
   "source": [
    "\n",
    "\n",
    "### a.4 Implementar una bolsa de palabras que transforme cualquier *string* en un vector. Los pasos a seguir son:\n",
    "  - Convertir las mayúsculas en minúsculas.\n",
    "  - Eliminar caracteres extraños.\n",
    "  - Unificar espacios en blanco.\n",
    "  - Convertir el *string* en una lista de palabras.\n",
    "  - Convertir cada palabra en un *embedding* usando el `word2vec`.\n",
    "  - Sumar las representaciones para formar un solo vector.\n",
    "\n",
    "Para resolver este paso, se uso la libreria de Python `re` (Regular Expressions) para eliminar caracteres extraños"
   ]
  },
  {
   "cell_type": "code",
   "execution_count": null,
   "id": "57d92871",
   "metadata": {},
   "outputs": [
    {
     "name": "stdout",
     "output_type": "stream",
     "text": [
      "(300,)\n"
     ]
    }
   ],
   "source": [
    "def string2vec(text, language_model, dim=300):\n",
    "    \"\"\"\n",
    "    Transforma un string en un vector embedding sumando los vectores de sus palabras.\n",
    "    Pasos:\n",
    "    1. Convierte a minúsculas.\n",
    "    2. Elimina caracteres extraños.\n",
    "    3. Unifica espacios en blanco.\n",
    "    4. Divide en palabras.\n",
    "    5. Convierte cada palabra en embedding usando word2vec.\n",
    "    6. Suma los embeddings.\n",
    "    \"\"\"\n",
    "    # 1. Minúsculas\n",
    "    text = text.lower()\n",
    "    # 2. Eliminar caracteres extraños (solo letras, números y espacios)\n",
    "    text = re.sub(r'[^a-z0-9\\s]', '', text)\n",
    "    # 3. Unificar espacios en blanco\n",
    "    text = re.sub(r'\\s+', ' ', text).strip()\n",
    "    # 4. Lista de palabras\n",
    "    words = text.split()\n",
    "    # 5. Embeddings y 6. Suma\n",
    "    vecs = [word2vec(word, language_model, dim) for word in words]\n",
    "    if vecs:\n",
    "        return np.sum(vecs, axis=0)\n",
    "    else:\n",
    "        return np.zeros(dim)\n",
    "\n",
    "# Verificacion:\n",
    "vector = string2vec(\"The Lord of the Rings!\", glove)\n",
    "print(vector.shape)  # Debería ser (300,)"
   ]
  },
  {
   "cell_type": "markdown",
   "id": "27c3cba0",
   "metadata": {},
   "source": [
    "\n",
    "### a.5 Se desea medir qué tan parecidos son dos *embeddings*. Para ello, implementar un código que calcule la similitud coseno.  \n",
    "  La similitud coseno se define como:\n",
    "  $$\n",
    "  \\mathrm{SC}(u, v) = \\frac{u \\cdot v}{\\lVert u\\rVert \\;\\lVert v\\rVert}\n",
    "  $$\n"
   ]
  },
  {
   "cell_type": "code",
   "execution_count": null,
   "id": "e7231826",
   "metadata": {},
   "outputs": [
    {
     "name": "stdout",
     "output_type": "stream",
     "text": [
      "Similitud (idénticos): 1.0\n",
      "Similitud (muy parecidos): 0.9846548635781329\n",
      "Similitud (parcialmente relacionados): 0.27039834421986003\n",
      "Similitud (distintos): 0.2911262796969033\n",
      "Similitud (con string vacío): 0.0\n",
      "Similitud (palabra inventada): 0.0\n"
     ]
    }
   ],
   "source": [
    "def similitud_coseno(u, v):\n",
    "    \"\"\"\n",
    "    Calcula la similitud coseno entre dos vectores numpy.\n",
    "    \"\"\"\n",
    "    norm_u = np.linalg.norm(u)\n",
    "    norm_v = np.linalg.norm(v)\n",
    "    if norm_u == 0 or norm_v == 0:\n",
    "        return 0.0\n",
    "    return np.dot(u, v) / (norm_u * norm_v)\n",
    "\n",
    "# Verificacion:\n",
    "# Ejemplo 1: Dos strings idénticos\n",
    "vec1 = string2vec(\"The Lord of the Rings\", glove)\n",
    "vec2 = string2vec(\"The Lord of the Rings\", glove)\n",
    "print(\"Similitud (idénticos):\", similitud_coseno(vec1, vec2))  # Debería ser 1.0 o muy cercano\n",
    "\n",
    "# Ejemplo 2: Muy parecidos (sin 'the')\n",
    "vec3 = string2vec(\"Lord of the Rings\", glove)\n",
    "print(\"Similitud (muy parecidos):\", similitud_coseno(vec1, vec3))  # Debería ser alto, pero < 1\n",
    "\n",
    "# Ejemplo 3: Parcialmente relacionados\n",
    "vec4 = string2vec(\"Harry Potter\", glove)\n",
    "print(\"Similitud (parcialmente relacionados):\", similitud_coseno(vec1, vec4))  # Debería ser moderado o bajo\n",
    "\n",
    "# Ejemplo 4: String vacío\n",
    "vec6 = string2vec(\"\", glove)\n",
    "print(\"Similitud (con string vacío):\", similitud_coseno(vec1, vec6))  # Debería ser 0\n",
    "\n",
    "# Ejemplo 5: Palabra fuera del vocabulario\n",
    "vec7 = string2vec(\"asdkfjhasdkjfh\", glove)\n",
    "print(\"Similitud (palabra inventada):\", similitud_coseno(vec1, vec7))  # Debería ser 0"
   ]
  },
  {
   "cell_type": "markdown",
   "id": "76a69d03",
   "metadata": {},
   "source": [
    "\n",
    "### a.6 Implementar un buscador que, dado un *string* (y su correspondiente *embedding*), devuelva la película con la representación más similar.\n"
   ]
  },
  {
   "cell_type": "code",
   "execution_count": 38,
   "id": "af821938",
   "metadata": {},
   "outputs": [
    {
     "name": "stdout",
     "output_type": "stream",
     "text": [
      "Película encontrada:  Toy Story (1995) (similitud: 0.704)\n"
     ]
    }
   ],
   "source": [
    "class BuscadorPeliculas:\n",
    "    def __init__(self, titulos, language_model, dim=300):\n",
    "        \"\"\"\n",
    "        titulos: lista de strings con los títulos de las películas\n",
    "        language_model: diccionario de embeddings (GloVe)\n",
    "        dim: dimensión de los embeddings\n",
    "        \"\"\"\n",
    "        self.titulos = titulos\n",
    "        self.language_model = language_model\n",
    "        self.dim = dim\n",
    "        # Precalcula los embeddings de todos los títulos\n",
    "        self.embeddings = [string2vec(titulo, language_model, dim) for titulo in titulos]\n",
    "\n",
    "    def buscar(self, consulta):\n",
    "        \"\"\"\n",
    "        Dado un string de consulta, devuelve el título de película más similar.\n",
    "        \"\"\"\n",
    "        consulta_vec = string2vec(consulta, self.language_model, self.dim)\n",
    "        similitudes = [similitud_coseno(consulta_vec, emb) for emb in self.embeddings]\n",
    "        idx_max = np.argmax(similitudes)\n",
    "        if similitudes[idx_max] == 0: # Para evitar que devuelva un titulo por default\n",
    "            return None, 0.0\n",
    "        return self.titulos[idx_max], similitudes[idx_max]\n",
    "\n",
    "# Verificacion:\n",
    "# Cargar el archivo movies.csv\n",
    "df_movies = pd.read_csv(\"movies.csv\")\n",
    "# Extraer la lista de títulos de la columna \"Name\"\n",
    "titulos = df_movies[\"Name\"].tolist()\n",
    "buscador = BuscadorPeliculas(titulos, glove)\n",
    "resultado, score = buscador.buscar(\"toy\")\n",
    "print(f\"Película encontrada: {resultado} (similitud: {score:.3f})\")"
   ]
  },
  {
   "cell_type": "markdown",
   "id": "c5b71c22",
   "metadata": {},
   "source": [
    "\n",
    "---\n",
    "\n",
    "## (b) Sistema de Recomendación\n",
    "\n",
    "Se desea diseñar el sistema de recomendación y utilizarlo para recomendarnos películas:\n",
    "\n",
    "### b.1 Agregar un usuario a la base de datos con al menos 10 películas calificadas.  Utilice el buscador para no tener que escribir los títulos perfectos.\n"
   ]
  },
  {
   "cell_type": "code",
   "execution_count": 42,
   "id": "4ec878b4",
   "metadata": {},
   "outputs": [
    {
     "name": "stdout",
     "output_type": "stream",
     "text": [
      "Califica las siguientes películas (de 1 a 5):\n",
      "Consulta: 'toy' → Título encontrado: ' Toy Story (1995)' (similitud: 0.704)\n",
      "Consulta: 'star war' → Título encontrado: ' Star Wars (1977)' (similitud: 0.826)\n",
      "Consulta: 'french' → Título encontrado: ' French Kiss (1995)' (similitud: 0.734)\n",
      "Consulta: 'taxi driverr' → Título encontrado: ' Taxi Driver (1976)' (similitud: 0.812)\n",
      "Consulta: 'forrest gump' → Título encontrado: ' Forrest Gump (1994)' (similitud: 0.922)\n",
      "Consulta: 'godfather' → Título encontrado: ' Godfather, The (1972)' (similitud: 0.644)\n",
      "Tus calificaciones:\n",
      " Toy Story (1995): 10\n",
      " Star Wars (1977): 1\n",
      " French Kiss (1995): 1\n",
      " Taxi Driver (1976): 1\n",
      " Forrest Gump (1994): 1\n",
      " Godfather, The (1972): 1\n",
      "Usuario agregado como columna 'user_943' en movies.csv\n"
     ]
    }
   ],
   "source": [
    "# Crear el buscador de películas\n",
    "buscador = BuscadorPeliculas(titulos, glove)\n",
    "\n",
    "usuario = {}\n",
    "peliculas_a_calificar = [\n",
    "    \"toy\",\n",
    "    \"star war\",\n",
    "    \"french\",\n",
    "    \"taxi driverr\",\n",
    "    \"forrest gump\",\n",
    "    \"godfather\"\n",
    "]\n",
    "\n",
    "print(\"Califica las siguientes películas (de 1 a 5):\")\n",
    "for consulta in peliculas_a_calificar:\n",
    "    titulo, score = buscador.buscar(consulta)\n",
    "    print(f\"Consulta: '{consulta}' → Título encontrado: '{titulo}' (similitud: {score:.3f})\")\n",
    "    calificacion = int(input(f\"Tu calificación para '{titulo}': \"))\n",
    "    usuario[titulo] = calificacion\n",
    "\n",
    "print(\"Tus calificaciones:\")\n",
    "for titulo, calificacion in usuario.items():\n",
    "    print(f\"{titulo}: {calificacion}\")\n",
    "\n",
    "# Agrego el usuario a movies.csv\n",
    "# 1. Leer el archivo\n",
    "df_movies = pd.read_csv(\"movies.csv\")\n",
    "\n",
    "# 2. Determinar el próximo nombre de usuario (user_N)\n",
    "user_cols = [col for col in df_movies.columns if col.startswith(\"user_\")]\n",
    "if user_cols:\n",
    "    last_user_num = max([int(col.split(\"_\")[1]) for col in user_cols])\n",
    "    nuevo_usuario_col = f\"user_{last_user_num + 1}\"\n",
    "else:\n",
    "    nuevo_usuario_col = \"user_0\"\n",
    "\n",
    "# 3. Crear la columna con ceros\n",
    "df_movies[nuevo_usuario_col] = 0\n",
    "\n",
    "# 4. Asignar las calificaciones del diccionario 'usuario'\n",
    "for titulo, calificacion in usuario.items():\n",
    "    idx = df_movies[df_movies[\"Name\"] == titulo].index\n",
    "    if len(idx) > 0:\n",
    "        df_movies.at[idx[0], nuevo_usuario_col] = calificacion\n",
    "\n",
    "# 5. Guardar el DataFrame actualizado en el archivo (sobrescribe el CSV)\n",
    "df_movies.to_csv(\"movies.csv\", index=False)\n",
    "\n",
    "print(f\"Usuario agregado como columna '{nuevo_usuario_col}' en movies.csv\")"
   ]
  },
  {
   "cell_type": "markdown",
   "id": "c9b21ed3",
   "metadata": {},
   "source": [
    "\n",
    "### b.2 Utilizando **gradiente descendente**, entrenar un filtro colaborativo con un espacio latente de dimensión 10, $\\lambda = 10$ y *learning rate* $10^{-3}$.  Graficar el riesgo regularizado empírico en función del número de iteraciones (al menos 2000).\n",
    "\n",
    "\n",
    "¿Qué es un filtro colaborativo?\n",
    "Es una técnica de recomendación que modela la interacción entre usuarios y películas (o ítems) en un espacio latente, es decir, representando tanto a usuarios como a películas con vectores de características ocultas de dimensión baja (acá, dimensión 10).\n",
    "\n",
    "¿Qué significa \"entrenar con gradiente descendente\"?\n",
    "El modelo busca encontrar los vectores latentes de usuarios y películas que mejor expliquen las calificaciones observadas. Para eso, se define una función de pérdida (error cuadrático + regularización) y se minimiza usando gradiente descendente: se ajustan los vectores latentes en cada iteración para reducir el error.\n",
    "\n",
    "Parámetros específicos del enunciado:\n",
    "- Espacio latente de dimensión 10: Cada usuario y cada película se representa con un vector de 10 números (características ocultas).\n",
    "- λ = 10: Es la constante de regularización (penaliza que los vectores sean muy grandes, para evitar overfitting).\n",
    "- learning rate = 10⁻³: Es el tamaño del paso que da el gradiente descendente en cada actualización.\n",
    "- Al menos 2000 iteraciones: El entrenamiento debe durar al menos 2000 pasos de actualización."
   ]
  },
  {
   "cell_type": "code",
   "execution_count": 44,
   "id": "6f132b28",
   "metadata": {},
   "outputs": [
    {
     "name": "stdout",
     "output_type": "stream",
     "text": [
      "Iteración 500, pérdida regularizada: 73663.67\n",
      "Iteración 1000, pérdida regularizada: 73438.52\n",
      "Iteración 1500, pérdida regularizada: 73401.70\n",
      "Iteración 2000, pérdida regularizada: 73386.29\n"
     ]
    },
    {
     "data": {
      "image/png": "[encoded data removed]",
      "text/plain": [
       "<Figure size 800x500 with 1 Axes>"
      ]
     },
     "metadata": {},
     "output_type": "display_data"
    }
   ],
   "source": [
    "# 1. Cargar datos\n",
    "df = pd.read_csv(\"movies.csv\")\n",
    "R = df.iloc[:, 1:].values  # ratings (sin la columna de nombres)\n",
    "R = R.astype(float)\n",
    "M, N = R.shape  # M: películas, N: usuarios\n",
    "\n",
    "# 2. Parámetros\n",
    "d = 10         # dimensión latente\n",
    "lmbda = 10     # regularización\n",
    "lr = 1e-3      # learning rate\n",
    "n_iter = 2000  # número de iteraciones\n",
    "\n",
    "# 3. Inicialización aleatoria\n",
    "np.random.seed(42)\n",
    "U = np.random.normal(0, 0.1, size=(M, d))  # películas\n",
    "V = np.random.normal(0, 0.1, size=(N, d))  # usuarios\n",
    "\n",
    "# 4. Guardar función de pérdida\n",
    "losses = []\n",
    "\n",
    "# 5. Máscara de ratings observados\n",
    "mask = R > 0\n",
    "\n",
    "# 6. Entrenamiento por gradiente descendente\n",
    "for it in range(n_iter):\n",
    "    # Predicción\n",
    "    R_hat = U @ V.T\n",
    "\n",
    "    # Error solo donde hay rating observado\n",
    "    error = (R_hat - R) * mask\n",
    "\n",
    "    # Función de pérdida regularizada\n",
    "    loss = 0.5 * np.sum(error**2) + 0.5 * lmbda * (np.sum(U**2) + np.sum(V**2))\n",
    "    losses.append(loss)\n",
    "\n",
    "    # Gradientes\n",
    "    dU = error @ V + lmbda * U\n",
    "    dV = error.T @ U + lmbda * V\n",
    "\n",
    "    # Actualización\n",
    "    U -= lr * dU\n",
    "    V -= lr * dV\n",
    "\n",
    "    # Opcional: imprimir cada 500 iteraciones\n",
    "    if (it+1) % 500 == 0:\n",
    "        print(f\"Iteración {it+1}, pérdida regularizada: {loss:.2f}\")\n",
    "\n",
    "# 7. Gráfico del riesgo regularizado empírico\n",
    "plt.figure(figsize=(8,5))\n",
    "plt.plot(losses)\n",
    "plt.xlabel(\"Iteración\")\n",
    "plt.ylabel(\"Riesgo regularizado empírico\")\n",
    "plt.title(\"Evolución del riesgo durante el entrenamiento\")\n",
    "plt.grid()\n",
    "plt.show()"
   ]
  },
  {
   "cell_type": "markdown",
   "id": "55f341b6",
   "metadata": {},
   "source": [
    "\n",
    "### b.3 Crear un **rating** ponderando en partes iguales la salida del filtro colaborativo y la calificación media de las películas.\n"
   ]
  },
  {
   "cell_type": "code",
   "execution_count": 47,
   "id": "57d14784",
   "metadata": {},
   "outputs": [
    {
     "name": "stdout",
     "output_type": "stream",
     "text": [
      "Ejemplo de rating final para la primera película y usuario: 3.8407333964992985\n"
     ]
    }
   ],
   "source": [
    "# R_hat es la matriz de predicciones del filtro colaborativo (U @ V.T)\n",
    "# R es la matriz original de ratings\n",
    "\n",
    "# 1. Calcular la media de cada película (ignorando ceros)\n",
    "mean_movie_rating = np.sum(R, axis=1) / np.maximum(np.sum(R > 0, axis=1), 1)  # Evita división por cero\n",
    "\n",
    "# 2. Expandir la media para que tenga la misma forma que R_hat\n",
    "mean_matrix = np.tile(mean_movie_rating[:, np.newaxis], (1, R.shape[1]))\n",
    "\n",
    "# 3. Calcular el rating combinado (ponderación 50% - 50%)\n",
    "rating_final = 0.5 * R_hat + 0.5 * mean_matrix\n",
    "\n",
    "# rating_final ahora contiene la puntuación ponderada para cada película-usuario\n",
    "print(\"Ejemplo de rating final para la primera película y usuario:\", rating_final[0,0])"
   ]
  },
  {
   "cell_type": "markdown",
   "id": "7bfc13e3",
   "metadata": {},
   "source": [
    "\n",
    "### b.4 Recomendar las 5 películas **no vistas** con más alto **rating** al usuario creado anteriormente.\n"
   ]
  },
  {
   "cell_type": "code",
   "execution_count": 48,
   "id": "b4a101dc",
   "metadata": {},
   "outputs": [
    {
     "name": "stdout",
     "output_type": "stream",
     "text": [
      "Las 5 películas recomendadas para el usuario nuevo son:\n",
      "-  Schindler's List (1993) (rating: 3.27)\n",
      "-  Princess Bride, The (1987) (rating: 3.26)\n",
      "-  Empire Strikes Back, The (1980) (rating: 3.22)\n",
      "-  Shawshank Redemption, The (1994) (rating: 3.20)\n",
      "-  Raiders of the Lost Ark (1981) (rating: 3.19)\n"
     ]
    }
   ],
   "source": [
    "# 1. Índice del usuario (última columna)\n",
    "user_idx = R.shape[1] - 1\n",
    "\n",
    "# 2. Ratings originales del usuario\n",
    "user_ratings = R[:, user_idx]\n",
    "\n",
    "# 3. Ratings combinados del usuario\n",
    "user_final_ratings = rating_final[:, user_idx]\n",
    "\n",
    "# 4. Índices de películas no vistas\n",
    "no_vistas_idx = np.where(user_ratings == 0)[0]\n",
    "\n",
    "# 5. Ratings de las no vistas\n",
    "ratings_no_vistas = user_final_ratings[no_vistas_idx]\n",
    "\n",
    "# 6. Ordenar y seleccionar las 5 mejores\n",
    "top5_idx = no_vistas_idx[np.argsort(ratings_no_vistas)[-5:][::-1]]\n",
    "\n",
    "# 7. Mostrar títulos recomendados\n",
    "titulos = df[\"Name\"].values\n",
    "print(\"Las 5 películas recomendadas para el usuario nuevo son:\")\n",
    "for i in top5_idx:\n",
    "    print(f\"- {titulos[i]} (rating: {user_final_ratings[i]:.2f})\")"
   ]
  }
 ],
 "metadata": {
  "kernelspec": {
   "display_name": "venv-taller",
   "language": "python",
   "name": "python3"
  },
  "language_info": {
   "codemirror_mode": {
    "name": "ipython",
    "version": 3
   },
   "file_extension": ".py",
   "mimetype": "text/x-python",
   "name": "python",
   "nbconvert_exporter": "python",
   "pygments_lexer": "ipython3",
   "version": "3.9.6"
  }
 },
 "nbformat": 4,
 "nbformat_minor": 5
}
